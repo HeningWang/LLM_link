{
 "cells": [
  {
   "cell_type": "markdown",
   "metadata": {},
   "source": [
    "# Generate prompts from raw stimuli and instructions for different measurements & different tasks\n",
    "Author: Hening Wang\n",
    "Date: 21.08.2023\n",
    "\n",
    "## Generate prompts for Rating task"
   ]
  },
  {
   "cell_type": "code",
   "execution_count": 1,
   "metadata": {},
   "outputs": [],
   "source": [
    "# Import relevant modules\n",
    "import pandas as pd\n",
    "import numpy as np\n"
   ]
  },
  {
   "cell_type": "code",
   "execution_count": 2,
   "metadata": {},
   "outputs": [
    {
     "name": "stdout",
     "output_type": "stream",
     "text": [
      "Task: You will read short stories that describe everyday situations. Each story will be followed by an explanation of why one character in that scenario responds in a certain way. Read each story and the associated explanation. Your task is to decide how plausible is that explanation. The degree varies from \"very implausible\", \"implausible\", \"at chance\", \"plausible\", \"very plausible\". Answer only with one degree.\n",
      "[['He is excited about the upcoming trip to Japan and does not want to talk about anything else.', 'He liked the talk that his boss gave but does not want to tell him about it.', 'He disliked the talk that his boss gave but does not want to criticize his boss.  ', 'He wants to avoid going to Japan next week and wants to discuss it with his boss. '], ['Alex is proud of the painting job that he did.', \"Alex thinks that Richard's painting is mediocre.\", 'Alex wants Richards to help him paint the walls.', 'Alex is afraid that Richard will become a better painter than he is. '], ['She thinks that it is the best latte in the town.', 'She does not want to discuss the topic that Leslie has raised.', 'The man who Leslie saw makes unbelievable lattes.', 'A coffee break is not a good time to discuss men.'], ['He is thankful for her offer of beer and chips.', \"He pretends that he did not understand his wife's comment because he wants to watch the game.\", 'He is happy to turn off the TV right away and to spend more time with his wife.', 'He is excited about seeing his wife. '], [\"Mark's opinion of Jane as a financial manager is very high.\", \"Mark's opinion of Jane as a financial manager is very low.\", 'Mark is fond of people who have good handwriting.', 'Mark needs to get some new clothes.'], [\"Lucy's mom knows that Vincent lives somewhere in France.\", \"Lucy's mom does not know where exactly Vincent lives.\", \"Lucy's mom is jealous that she is not going to Paris.\", \"Lucy's mom is afraid that Lucy will go to France.\"], ['The wedding is not about food.', 'The food at the wedding was outstanding.', 'The food at the wedding was mediocre.', 'There was not a lot of food at the wedding.'], ['Mary wants Ken to serve her tea in a cup.', 'Mary is irritated with Ken.', 'Mary is proud of the new cups that she got from Ken for her birthday.', 'Mary wants Ken to wash a cup that she sees in the sink.  '], ['Cindy does not plan to buy anything but shoes in this store.', 'Cindy does not know what type of shoes she wants to buy.', 'Cindy has an obsession with shoes and buys them on every occasion. ', 'Cindy is excited about going shopping.'], ['He has been doing lots of schoolwork at school.', 'He does not want to talk about school with his mom.', 'He is too excited to talk about this at the moment.', 'He is upset that his dad is not at home.'], [\"Mark's wife has a lot of experience with cooking.\", \"Mark's wife has little experience with cooking.\", \"Mark's wife has been doing some scientific experiments instead of cooking.\", \"Mark's wife has been angry with Mark because he did not help her with dinner.  \"], ['Marcie wants Lenny to know how his breakfast was made.', \"Marcie thinks that her husband's expectations about breakfast are too high.\", 'Marcie is really good at cooking eggs and making toast.', 'Marcie thinks that breakfast is the main meal of the day.'], ['Paul has been impressed with the performance by the actress.', 'Paul thinks that the actress cannot sing.', 'Paul thinks that the actress has a sore throat.', 'Paul thinks that the performance by the actress was very moving.   '], ['Melissa is very knowledgeable about the system of secondary education.', 'Melissa thinks that statistical information is useless in this debate.', 'Melissa thinks that statistical information is of great use in this debate.', 'Melissa thinks that kids attending schools lack subject knowledge. '], ['He knows these people and their lifestyle very well.', 'He thinks that Rosy has no reason to believe that the strangers are nice.', 'He thinks that people who ride subways have many good habits.', 'He thinks that people who ride subways have many bad habits.'], ['Freddie can give Berta some money that he will get for his space expedition.', 'Freddie will never give Berta any money.', 'Freddie is ready to give money to Berta without any questions.', 'Freddie considers giving the money to Berta. '], ['Katy agrees that Mr. Smith is a smart individual.', 'Katy doubts that Mr. Smith is a smart individual.', 'Katy thinks that Mr. Smith works at a kindergarten.', \"Katy knows that Mr. Smith's kids are kindergarteners.\"], [\"Samantha's dad thinks that Samantha's fiance is a saint.\", \"Samantha's dad is impressed with John's innocence.\", \"Samantha's dad thinks that Samantha has an incorrect view of her fiance.\", \"Samantha's dad thinks that John is too religious. \"], ['Bianka is an alien.', 'Bianka does not want Lenny to know her address.', 'Bianka is not very well educated.', 'Bianka tries to make Lenny angry with her.'], ['Kelly has made a list of books to read that contains one million titles.', 'Kelly plans to devote a lot of time to reading this summer.', 'Kelly is a pathological liar.', 'Kelly cannot count very well.']]\n",
      "['Description: He disliked the talk that his boss gave but does not want to criticize his boss.  ', \"Description: Alex thinks that Richard's painting is mediocre.\", 'Description: She does not want to discuss the topic that Leslie has raised.', \"Description: He pretends that he did not understand his wife's comment because he wants to watch the game.\", \"Description: Mark's opinion of Jane as a financial manager is very low.\", \"Description: Lucy's mom does not know where exactly Vincent lives.\", 'Description: The food at the wedding was mediocre.', 'Description: Mary is irritated with Ken.', 'Description: Cindy does not know what type of shoes she wants to buy.', 'Description: He does not want to talk about school with his mom.', \"Description: Mark's wife has little experience with cooking.\", \"Description: Marcie thinks that her husband's expectations about breakfast are too high.\", 'Description: Paul thinks that the actress cannot sing.', 'Description: Melissa thinks that statistical information is useless in this debate.', 'Description: He thinks that Rosy has no reason to believe that the strangers are nice.', 'Description: Freddie will never give Berta any money.', 'Description: Katy doubts that Mr. Smith is a smart individual.', \"Description: Samantha's dad thinks that Samantha has an incorrect view of her fiance.\", 'Description: Bianka does not want Lenny to know her address.', 'Description: Kelly plans to devote a lot of time to reading this summer.']\n"
     ]
    }
   ],
   "source": [
    "# Read the instructions of rating\n",
    "file_path_instructions_rating = 'raw_stimuli/MaximsInstructions_Rating.txt'\n",
    "\n",
    "with open(file_path_instructions_rating, 'r') as file:\n",
    "    instructions_rating = file.read()\n",
    "\n",
    "print(instructions_rating)\n",
    "\n",
    "# Read options from the file\n",
    "\n",
    "file_path_options = 'raw_stimuli/MaximsOptions.txt'\n",
    "\n",
    "# Reading the content of options into a DataFrame\n",
    "column_names = ['item_number', 'option_number', 'option_text']\n",
    "content_options = pd.read_csv(file_path_options, sep='\\t', names=column_names)\n",
    "\n",
    "# Create a list of lists of options for each item\n",
    "options = []\n",
    "for item_number in content_options.item_number.unique():\n",
    "    options.append(content_options[content_options.item_number == item_number].option_text.tolist())\n",
    "\n",
    "print(options)\n",
    "\n",
    "# Read key from the file\n",
    "key_options = pd.read_csv('raw_stimuli/MaximsKeySimple.txt', sep='\\t', names=[\"phenomenon\",'item_number', \"option_number\",'content'])\n",
    "\n",
    "# Find the key for each item\n",
    "keys_items_pairs = []\n",
    "for i, row in key_options.iterrows():\n",
    "    if row.content == 'Correct':\n",
    "        keys_items_pairs.append((row.item_number, row.option_number))\n",
    "\n",
    "# Arrange the keys_items_pairs in the upscent order of item_number\n",
    "keys_items_pairs.sort(key=lambda x: x[0])\n",
    "\n",
    "# Reading the scenario content from the file\n",
    "file_path_scenario = 'raw_stimuli/MaximsScenarios.txt'\n",
    "scenarios = pd.read_csv(file_path_scenario, sep='\\t', names=['item_number', 'scenario'])\n",
    "\n",
    "# Get true answer with options and key\n",
    "\n",
    "## Get true answer with key item pairs\n",
    "true_answer = []\n",
    "for item_number, option_number in keys_items_pairs:\n",
    "    matching_option = content_options[\n",
    "        (content_options['item_number'] == item_number) & \n",
    "        (content_options['option_number'] == option_number)\n",
    "    ]['option_text']\n",
    "    matching_option = \"Description: \" + matching_option\n",
    "    true_answer.extend(matching_option.tolist())\n",
    "\n",
    "print(true_answer)"
   ]
  },
  {
   "cell_type": "code",
   "execution_count": 3,
   "metadata": {},
   "outputs": [],
   "source": [
    "# Combine instructions, scenarios and true anwsers together\n",
    "new_prompts = []\n",
    "for i in range(len(true_answer)):\n",
    "    new_prompts.append(instructions_rating + \" \" + \"Scenario: \" + scenarios.scenario[i] + \" \" + true_answer[i])\n",
    "\n",
    "# Create a new DataFrame for the new prompts for rating task\n",
    "dict_prompts_rating = {'item_number': scenarios.item_number,\n",
    "                       'prompt': new_prompts,\n",
    "                       'true_answer_key': [keys_items_pair[1] for keys_items_pair in keys_items_pairs],\n",
    "                       'true_answer': true_answer,\n",
    "                       'scenarios': scenarios.scenario,\n",
    "                       'options': options}\n",
    "\n",
    "df_prompts_rating = pd.DataFrame(dict_prompts_rating)\n",
    "df_prompts_rating.to_csv(\"Maxims_prompts_Rating.csv\", index=False)"
   ]
  },
  {
   "cell_type": "markdown",
   "metadata": {},
   "source": [
    "## Generate prompts for free production"
   ]
  },
  {
   "cell_type": "code",
   "execution_count": 5,
   "metadata": {},
   "outputs": [],
   "source": [
    "# Read the instructions for free production\n",
    "file_path_free = 'raw_stimuli/MaximsInstructions_Free.txt'\n",
    "\n",
    "with open(file_path_free, 'r') as file:\n",
    "    instructions_free = file.read()\n",
    "\n",
    "\n",
    "# Combine instructions and scenarios together\n",
    "new_prompts = []\n",
    "for i in range(len(scenarios.scenario)):\n",
    "    new_prompts.append(instructions_free + \" \" + \"Scenario: \" + scenarios.scenario[i])\n",
    "\n",
    "dict_prompts_free = {'item_number': scenarios.item_number,\n",
    "                       'prompt': new_prompts,\n",
    "                       'true_answer_key': [keys_items_pair[1] for keys_items_pair in keys_items_pairs],\n",
    "                       'true_answer': true_answer,\n",
    "                       'scenarios': scenarios.scenario,\n",
    "                       'options': options}\n",
    "\n",
    "df_prompts_free = pd.DataFrame(dict_prompts_free)\n",
    "df_prompts_free.to_csv(\"Maxims_prompts_Free.csv\", index=False)\n",
    "\n"
   ]
  }
 ],
 "metadata": {
  "kernelspec": {
   "display_name": "llm_link",
   "language": "python",
   "name": "python3"
  },
  "language_info": {
   "codemirror_mode": {
    "name": "ipython",
    "version": 3
   },
   "file_extension": ".py",
   "mimetype": "text/x-python",
   "name": "python",
   "nbconvert_exporter": "python",
   "pygments_lexer": "ipython3",
   "version": "3.11.4"
  },
  "orig_nbformat": 4
 },
 "nbformat": 4,
 "nbformat_minor": 2
}
