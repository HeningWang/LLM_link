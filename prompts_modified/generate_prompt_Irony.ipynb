{
 "cells": [
  {
   "cell_type": "markdown",
   "metadata": {},
   "source": [
    "# Generate prompts from raw stimuli and instructions for different measurements & different tasks\n",
    "Author: Hening Wang\n",
    "Date: 28.08.2023\n",
    "\n",
    "## Generate prompts for Rating task"
   ]
  },
  {
   "cell_type": "code",
   "execution_count": 1,
   "metadata": {},
   "outputs": [],
   "source": [
    "# Import relevant modules\n",
    "import pandas as pd\n",
    "import numpy as np\n"
   ]
  },
  {
   "cell_type": "code",
   "execution_count": 14,
   "metadata": {},
   "outputs": [
    {
     "name": "stdout",
     "output_type": "stream",
     "text": [
      "Task: You will read short stories that describe everyday situations. Each story will be followed by an explanation of why one character in that scenario responds in a certain way. Read each story and the associated explanation. Your task is to decide how plausible is that explanation. The degree varies from \"very implausible\", \"implausible\", \"at chance\", \"plausible\", \"very plausible\". Answer only with one degree.\n",
      "[['The dress is fitting well.', 'Lara needs to get a dress of a shorter length.', 'Simon does not like the color of this dress.', 'Simon has to get back to work.'], ['Shane was paying attention when Christian was talking.', 'Shane was not paying attention when Christian was talking.', \"Shane's hearing improved greatly.\", 'Shane needs to see an eye doctor.'], ['Phil is a great basketball player.', \"Phil's basketball skills could be better.\", \"Phil's blocking is impressive.\", 'Phil is a great student.'], ['Patrick is very cautious.', 'Patrick is careless.', 'Patrick is allergic to noodles.', 'Patrick pays a lot of attention to fashion.'], [\"Tom's idea to go to the beach was genius. \", \"Tom's idea to go to the beach was awful.\", 'Tom forgot his sunscreen.', 'Tom forgot his passport.'], ['He enjoys listening to his kids fighting.', \"He does not want to listen to his kids' arguments.\", 'AC gives them some needed cool.', \"He remembers about his wife's birthday.\"], ['The game was outstanding.', 'The game was a disaster.', 'The game ended too late.', 'The game of chess was over.    '], ['Mark is an exceptional player.', \"Mark isn't a good player.\", 'Mark forgot to thank his caddy.', 'Mark forgot to thank his dentist.  '], ['Tom tidied up his room.', \"Tom's room is still messy.\", 'Tom cannot find a vacuum.', 'Tom cannot find a lawyer. '], ['He is happy that Callie made it to the party.', 'He is annoyed that Callie showed up late.', \"He is hungry and wants to eat Callie's salad.\", 'He is tired and is going to bed.'], ['The student is smart.', 'The student is not very clever.', 'The entrance exam is unfair. ', 'The pencils need to be sharpened.'], ['It is too hot.', 'It is too cold.', 'It is too loud.', 'It is too bright. '], ['He is happy with his work.', 'He is unhappy with his work.', 'He needs to polish his style.', 'He needs to buy a new car.'], ['He is excited about the job offer.', 'He is disappointed with the job offer. ', 'He is glad to be employed', 'He is tired of jogging every morning.'], ['Babysitting was an unpleasant experience.', 'Babysitting was an enjoyable experience.', 'Babysitting does not pay well.', 'Rock music should be prohibited. '], ['Laura had a thrilling experience.', 'Laura had a dull experience.', 'Laura got food poisoning.', 'Laura needs a babysitter.'], ['Their colleague is very sociable.', 'Their colleague is quite unsociable.', 'Their colleague has good taste in music.', 'Their colleague has good taste in fashion.'], ['It is an amicable community.', 'It is an unfriendly community.', 'It is a community of chocolate lovers.', 'It is a community of animal lovers.'], ['Juanita is always so fast.', 'Juanita is always so slow.', 'Juanita has the view of the game.', 'Juanita has the best cat.  '], ['Mark is a great speaker.', \"Mark's speaking skills leave much to be desired.\", \"Mark's speech was on captivating topic.\", \"Mark's speech was about ants.  \"], ['Tracy is a great dancer.', 'Tracy is not a good dancer.', \"Tracy's dancing outfit is impressive.\", \"Tracy's math skills are impressive.  \"], ['John is not a good runner.', 'John is an outstanding runner.', 'John needs new running shoes.', 'John needs new computer. '], ['He is happy with the new gardener.', 'He is unhappy with the new gardener.', 'He likes daisies.', 'He likes thrillers. '], ['Tilly is ready for the exam.', 'Tilly is unready for the exam.', 'Tilly cannot find the textbook.', 'Tilly cannot find the sneakers.'], ['He liked her choice of dress.', 'He thought that her dress was not appropriate for the occasion.', 'He thought that Barb forgot her purse in the hall.', 'He thought that Barb forgot to call the cab.']]\n",
      "['Explanation: Lara needs to get a dress of a shorter length.', 'Explanation: Shane was not paying attention when Christian was talking.', \"Explanation: Phil's basketball skills could be better.\", 'Explanation: Patrick is careless.', \"Explanation: Tom's idea to go to the beach was awful.\", \"Explanation: He does not want to listen to his kids' arguments.\", 'Explanation: The game was a disaster.', \"Explanation: Mark isn't a good player.\", \"Explanation: Tom's room is still messy.\", 'Explanation: He is annoyed that Callie showed up late.', 'Explanation: The student is not very clever.', 'Explanation: It is too cold.', 'Explanation: He is unhappy with his work.', 'Explanation: He is disappointed with the job offer. ', 'Explanation: Babysitting was an enjoyable experience.', 'Explanation: Laura had a dull experience.', 'Explanation: Their colleague is quite unsociable.', 'Explanation: It is an unfriendly community.', 'Explanation: Juanita is always so slow.', \"Explanation: Mark's speaking skills leave much to be desired.\", 'Explanation: Tracy is not a good dancer.', 'Explanation: John is an outstanding runner.', 'Explanation: He is unhappy with the new gardener.', 'Explanation: Tilly is unready for the exam.', 'Explanation: He thought that her dress was not appropriate for the occasion.']\n"
     ]
    }
   ],
   "source": [
    "phenomenon = 'Irony'\n",
    "# Read the instructions of rating\n",
    "file_path_instructions_rating = f'raw_stimuli/{phenomenon}Instructions_Rating.txt'\n",
    "\n",
    "with open(file_path_instructions_rating, 'r') as file:\n",
    "    instructions_rating = file.read()\n",
    "\n",
    "print(instructions_rating)\n",
    "\n",
    "# Read options from the file\n",
    "\n",
    "file_path_options = f'raw_stimuli/{phenomenon}Options.txt'\n",
    "\n",
    "# Reading the content of options into a DataFrame\n",
    "column_names = ['item_number', 'option_number', 'option_text']\n",
    "content_options = pd.read_csv(file_path_options, sep='\\t', names=column_names)\n",
    "\n",
    "# Create a list of lists of options for each item\n",
    "options = []\n",
    "for item_number in content_options.item_number.unique():\n",
    "    options.append(content_options[content_options.item_number == item_number].option_text.tolist())\n",
    "\n",
    "print(options)\n",
    "\n",
    "# Read key from the file\n",
    "key_options = pd.read_csv(f'raw_stimuli/{phenomenon}KeySimple.txt', sep='\\t', names=[\"phenomenon\",'item_number', \"option_number\",'content'])\n",
    "\n",
    "# Find the key for each item\n",
    "keys_items_pairs = []\n",
    "for i, row in key_options.iterrows():\n",
    "    if row.content == 'Correct':\n",
    "        keys_items_pairs.append((row.item_number, row.option_number))\n",
    "\n",
    "# Arrange the keys_items_pairs in the upscent order of item_number\n",
    "keys_items_pairs.sort(key=lambda x: x[0])\n",
    "\n",
    "# Reading the scenario content from the file\n",
    "file_path_scenario = f'raw_stimuli/{phenomenon}Scenarios.txt'\n",
    "scenarios = pd.read_csv(file_path_scenario, sep='\\t', names=['item_number', 'scenario'])\n",
    "\n",
    "# Get true answer with options and key\n",
    "\n",
    "## Get true answer with key item pairs\n",
    "true_answer = []\n",
    "for item_number, option_number in keys_items_pairs:\n",
    "    matching_option = content_options[\n",
    "        (content_options['item_number'] == item_number) & \n",
    "        (content_options['option_number'] == option_number)\n",
    "    ]['option_text']\n",
    "    matching_option = \"Explanation: \" + matching_option\n",
    "    true_answer.extend(matching_option.tolist())\n",
    "\n",
    "print(true_answer)"
   ]
  },
  {
   "cell_type": "code",
   "execution_count": 15,
   "metadata": {},
   "outputs": [],
   "source": [
    "# Combine instructions, scenarios and true anwsers together\n",
    "new_prompts = []\n",
    "for i in range(len(true_answer)):\n",
    "    new_prompts.append(instructions_rating + \" \" + \"Scenario: \" + scenarios.scenario[i] + \" \" + true_answer[i])\n",
    "\n",
    "# Create a new DataFrame for the new prompts for rating task\n",
    "dict_prompts_rating = {'item_number': scenarios.item_number,\n",
    "                       'prompt': new_prompts,\n",
    "                       'true_answer_key': [keys_items_pair[1] for keys_items_pair in keys_items_pairs],\n",
    "                       'true_answer': true_answer,\n",
    "                       'scenarios': scenarios.scenario,\n",
    "                       'options': options}\n",
    "\n",
    "df_prompts_rating = pd.DataFrame(dict_prompts_rating)\n",
    "df_prompts_rating.to_csv(f\"{phenomenon}_prompts_Rating.csv\", index=False)"
   ]
  },
  {
   "cell_type": "markdown",
   "metadata": {},
   "source": [
    "## Generate prompts for free production"
   ]
  },
  {
   "cell_type": "code",
   "execution_count": 17,
   "metadata": {},
   "outputs": [],
   "source": [
    "# Read the instructions for free production\n",
    "file_path_free = f'raw_stimuli/{phenomenon}Instructions_Free.txt'\n",
    "\n",
    "with open(file_path_free, 'r') as file:\n",
    "    instructions_free = file.read()\n",
    "\n",
    "# Copf df_prompts as df_prompts_free\n",
    "df_prompts_free = df_prompts.copy()\n",
    "\n",
    "# Combine instructions and scenarios together\n",
    "new_prompts = []\n",
    "for i in range(len(scenarios.scenario)):\n",
    "    new_prompts.append(instructions_free + \" \" + \"Scenario: \" + scenarios.scenario[i])\n",
    "\n",
    "dict_prompts_free = {'item_number': scenarios.item_number,\n",
    "                       'prompt': new_prompts,\n",
    "                       'true_answer_key': [keys_items_pair[1] for keys_items_pair in keys_items_pairs],\n",
    "                       'true_answer': true_answer,\n",
    "                       'scenarios': scenarios.scenario,\n",
    "                       'options': options}\n",
    "\n",
    "df_prompts_free = pd.DataFrame(dict_prompts_free)\n",
    "df_prompts_free.to_csv(f\"{phenomenon}_prompts_Free.csv\", index=False)\n",
    "\n"
   ]
  }
 ],
 "metadata": {
  "kernelspec": {
   "display_name": "llm_link",
   "language": "python",
   "name": "python3"
  },
  "language_info": {
   "codemirror_mode": {
    "name": "ipython",
    "version": 3
   },
   "file_extension": ".py",
   "mimetype": "text/x-python",
   "name": "python",
   "nbconvert_exporter": "python",
   "pygments_lexer": "ipython3",
   "version": "3.11.4"
  },
  "orig_nbformat": 4
 },
 "nbformat": 4,
 "nbformat_minor": 2
}
